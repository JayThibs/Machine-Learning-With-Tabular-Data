{
  "nbformat": 4,
  "nbformat_minor": 0,
  "metadata": {
    "colab": {
      "name": "Rossman-Store-Sales-Tabular-Data.ipynb",
      "provenance": [],
      "collapsed_sections": [],
      "include_colab_link": true
    },
    "kernelspec": {
      "name": "python3",
      "display_name": "Python 3"
    }
  },
  "cells": [
    {
      "cell_type": "markdown",
      "metadata": {
        "id": "view-in-github",
        "colab_type": "text"
      },
      "source": [
        "<a href=\"https://colab.research.google.com/github/JayThibs/Machine-Learning-With-Tabular-Data/blob/master/Rossman_Store_Sales_Tabular_Data.ipynb\" target=\"_parent\"><img src=\"https://colab.research.google.com/assets/colab-badge.svg\" alt=\"Open In Colab\"/></a>"
      ]
    },
    {
      "cell_type": "markdown",
      "metadata": {
        "id": "NDlUgDRW5bRM",
        "colab_type": "text"
      },
      "source": [
        "# Rossmann Store Sales\n",
        "\n",
        "## Description\n",
        "\n",
        "Rossmann operates over 3,000 drug stores in 7 European countries. Currently, Rossmann store managers are tasked with predicting their daily sales for up to six weeks in advance. Store sales are influenced by many factors, including promotions, competition, school and state holidays, seasonality, and locality. With thousands of individual managers predicting sales based on their unique circumstances, the accuracy of results can be quite varied.\n",
        "\n",
        "## Problem Statement\n",
        "\n",
        "Create a forecasting model to predict the number of sales in Rossmann stores."
      ]
    },
    {
      "cell_type": "code",
      "metadata": {
        "id": "sO45yzNW5CRn",
        "colab_type": "code",
        "colab": {}
      },
      "source": [
        "%reload_ext autoreload\n",
        "%autoreload 2"
      ],
      "execution_count": 0,
      "outputs": []
    },
    {
      "cell_type": "code",
      "metadata": {
        "id": "YEzn8rDu5Kbw",
        "colab_type": "code",
        "colab": {}
      },
      "source": [
        "from fastai import *\n",
        "from fastai.tabular import *\n",
        "from fastai.basics import *\n",
        "import os # for reading from the file"
      ],
      "execution_count": 0,
      "outputs": []
    },
    {
      "cell_type": "markdown",
      "metadata": {
        "id": "iqkVW0pV6cwZ",
        "colab_type": "text"
      },
      "source": [
        "## Data Preparation / Feature Engineering\n",
        "\n",
        "We will be using [external data](http://files.fast.ai/part2/lesson14/rossmann.tgz) along with the data provided in the Kaggle competition."
      ]
    },
    {
      "cell_type": "code",
      "metadata": {
        "id": "LexTR4jlN1Lb",
        "colab_type": "code",
        "colab": {
          "base_uri": "https://localhost:8080/",
          "height": 241
        },
        "outputId": "2ec76862-c89a-4817-ed15-f3a1aa3ad67f"
      },
      "source": [
        "!wget -P /content/ http://files.fast.ai/part2/lesson14/rossmann.tgz"
      ],
      "execution_count": 3,
      "outputs": [
        {
          "output_type": "stream",
          "text": [
            "--2019-10-06 19:05:04--  http://files.fast.ai/part2/lesson14/rossmann.tgz\n",
            "Resolving files.fast.ai (files.fast.ai)... 67.205.15.147\n",
            "Connecting to files.fast.ai (files.fast.ai)|67.205.15.147|:80... connected.\n",
            "HTTP request sent, awaiting response... 200 OK\n",
            "Length: 7730448 (7.4M) [application/x-gtar-compressed]\n",
            "Saving to: ‘/content/rossmann.tgz’\n",
            "\n",
            "\rrossmann.tgz          0%[                    ]       0  --.-KB/s               \rrossmann.tgz          2%[                    ] 221.56K   893KB/s               \rrossmann.tgz         43%[=======>            ]   3.21M  7.17MB/s               \rrossmann.tgz        100%[===================>]   7.37M  13.0MB/s    in 0.6s    \n",
            "\n",
            "2019-10-06 19:05:05 (13.0 MB/s) - ‘/content/rossmann.tgz’ saved [7730448/7730448]\n",
            "\n",
            "/bin/bash: untar: command not found\n"
          ],
          "name": "stdout"
        }
      ]
    },
    {
      "cell_type": "code",
      "metadata": {
        "id": "FePP-3M9dsX_",
        "colab_type": "code",
        "colab": {}
      },
      "source": [
        "!tar -xf /content/rossmann.tgz"
      ],
      "execution_count": 0,
      "outputs": []
    },
    {
      "cell_type": "code",
      "metadata": {
        "id": "O6BER2HYdMiT",
        "colab_type": "code",
        "colab": {}
      },
      "source": [
        "!rm -rf /content/rossmann.tgz"
      ],
      "execution_count": 0,
      "outputs": []
    },
    {
      "cell_type": "code",
      "metadata": {
        "id": "PJsDnlFgIoPA",
        "colab_type": "code",
        "colab": {
          "base_uri": "https://localhost:8080/",
          "height": 34
        },
        "outputId": "d58ddee7-7b10-4209-a2fd-de0d62eb2f8b"
      },
      "source": [
        "table_names = ['train', 'store', 'store_states', 'state_names', 'googletrend',\n",
        "               'weather', 'test']\n",
        "\n",
        "tables = [pd.read_csv(f'{fname}.csv', low_memory=False) \\\n",
        "          for fname in table_names]\n",
        "train, store, store_states, state_names, googletrend, weather, test = tables\n",
        "len(train), len(test) # number of train and test examples"
      ],
      "execution_count": 12,
      "outputs": [
        {
          "output_type": "execute_result",
          "data": {
            "text/plain": [
              "(1017209, 41088)"
            ]
          },
          "metadata": {
            "tags": []
          },
          "execution_count": 12
        }
      ]
    },
    {
      "cell_type": "code",
      "metadata": {
        "id": "UR8bZ7EmfDvE",
        "colab_type": "code",
        "colab": {}
      },
      "source": [
        ""
      ],
      "execution_count": 0,
      "outputs": []
    }
  ]
}