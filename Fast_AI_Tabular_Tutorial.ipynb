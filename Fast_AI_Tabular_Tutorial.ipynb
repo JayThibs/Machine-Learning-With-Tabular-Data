{
  "nbformat": 4,
  "nbformat_minor": 0,
  "metadata": {
    "colab": {
      "name": "Fast-AI-Tabular-Tutorial.ipynb",
      "provenance": [],
      "collapsed_sections": [],
      "include_colab_link": true
    },
    "kernelspec": {
      "name": "python3",
      "display_name": "Python 3"
    }
  },
  "cells": [
    {
      "cell_type": "markdown",
      "metadata": {
        "id": "view-in-github",
        "colab_type": "text"
      },
      "source": [
        "<a href=\"https://colab.research.google.com/github/JayThibs/Machine-Learning-With-Tabular-Data/blob/master/Fast_AI_Tabular_Tutorial.ipynb\" target=\"_parent\"><img src=\"https://colab.research.google.com/assets/colab-badge.svg\" alt=\"Open In Colab\"/></a>"
      ]
    },
    {
      "cell_type": "markdown",
      "metadata": {
        "id": "FqIMsdYONVpL",
        "colab_type": "text"
      },
      "source": [
        "# Tabular Data\n",
        "\n",
        "There's a common myth that you shouldn't use deep learning when you are doing machine learning with tabular data. The main argument is that you don't have enough data to train a good ML model if you are using DL, and you should instead use a technique like XGBoost.\n",
        "\n",
        "The myth is just that, a myth. Jeremy Howard from fast.ai now uses deep learning to tackle ~90% of problems with tabular data.\n",
        "\n",
        "One of the reason people haven't been using deep learning with tabular data is that there was no framework that allowed to easily build DL models with tabular data. Until now. The fast.ai framework has a tabular modules which allows us to quickly build models with tabular data.\n",
        "\n",
        "For this notebook, we'll assume that we've cleaned the data properly in advance and it fits well in a pandas `dataframe`."
      ]
    },
    {
      "cell_type": "code",
      "metadata": {
        "id": "TV9X90yLL3cb",
        "colab_type": "code",
        "colab": {}
      },
      "source": [
        "%reload_ext autoreload\n",
        "%autoreload 2\n",
        "%matplotlib inline"
      ],
      "execution_count": 0,
      "outputs": []
    },
    {
      "cell_type": "code",
      "metadata": {
        "id": "_QYZ2eIjNTv8",
        "colab_type": "code",
        "colab": {}
      },
      "source": [
        "from fastai import *\n",
        "from fastai.tabular import *"
      ],
      "execution_count": 0,
      "outputs": []
    },
    {
      "cell_type": "code",
      "metadata": {
        "id": "lr1XtE1_Qutv",
        "colab_type": "code",
        "colab": {}
      },
      "source": [
        "path = untar_data(URLs.ADULT_SAMPLE)"
      ],
      "execution_count": 0,
      "outputs": []
    }
  ]
}